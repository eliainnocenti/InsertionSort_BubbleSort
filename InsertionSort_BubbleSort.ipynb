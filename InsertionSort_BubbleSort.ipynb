{
 "cells": [
  {
   "cell_type": "markdown",
   "source": [
    "# Insertion Sort vs Bubble Sort\n",
    "\n",
    "##### __Elia Innocenti__ - 7080561\n",
    "\n",
    "### Introduction to Sorting Algorithms\n",
    "\n",
    "A sorting algorithm is an algorithm that solve the following sorting problem:\n",
    "\n",
    "**Input**: A sequence of $n$ numbers $<a_1, a_2, ..., a_n>$\n",
    "\n",
    "**Output**: A permutation (reordering) $<a_1', a_2', ..., a_n'>$ of the input sequence such that $a_1' \\leq a_2' \\leq ... \\leq a_n'$\n",
    "\n",
    "There are many sorting algorithms, each with its own advantages and limitations, based on time complexity, space complexity, stability and the type of data to be sorted.\n",
    "\n",
    "In this notebook we will focus on two simple sorting algorithms: **Insertion Sort** and **Bubble Sort**.\n",
    "\n",
    "### Insertion Sort\n",
    "\n",
    "**Insertion Sort** is a simple sorting algorithm that works by building a sorted portion of the list one element at a time. Its main idea is to take each element from the unsorted part of the list and insert it into its correct position within the sorted portion.\n",
    "\n",
    "Here's a brief overview of how Insertion Sort works:\n",
    "\n",
    "1. **Initialization**: The algorithm starts with the first element, assuming it's already sorted.\n",
    "2. **Comparison and Insertion**: It then iterates through the unsorted portion of the list, comparing each element with the elements in the sorted portion. It finds the correct position for the current element within the sorted part and inserts it there.\n",
    "3. **Expansion**: This process continues iteratively, with the sorted portion growing by one element in each iteration.\n",
    "4. **Termination**: The algorithm terminates when the sorted portion of the list reaches the end of the list.\n"
   ],
   "metadata": {
    "collapsed": false
   },
   "id": "ea9b878ddd9d414"
  },
  {
   "cell_type": "code",
   "execution_count": 3,
   "outputs": [],
   "source": [
    "def InsertionSort(A):\n",
    "    \n",
    "    # Start iterating from the second element (index 1) to the end of the array\n",
    "    for i in range(1, len(A)):\n",
    "        \n",
    "        # Store the current element to be inserted into the sorted sequence\n",
    "        key = A[i]\n",
    "        \n",
    "        # Insert A[j] into the sorted sequence A[1..j-1]\n",
    "        j = i - 1\n",
    "        \n",
    "        # Compare key with elements in the sorted sequence and shift larger elements to the right\n",
    "        while j >= 0 and key < A[j]:\n",
    "            A[j + 1] = A[j] # Shift element to the right\n",
    "            j -= 1\n",
    "        \n",
    "        # Insert the current element (key) into its correct position in the sorted sequence\n",
    "        A[j + 1] = key\n",
    "        \n",
    "    return A"
   ],
   "metadata": {
    "collapsed": false,
    "ExecuteTime": {
     "end_time": "2023-10-05T10:50:20.557691Z",
     "start_time": "2023-10-05T10:50:20.538768Z"
    }
   },
   "id": "fbdfc233c4f76b98"
  },
  {
   "cell_type": "code",
   "execution_count": 4,
   "outputs": [
    {
     "name": "stdout",
     "output_type": "stream",
     "text": [
      "Sorted array: [5, 6, 11, 12, 13]\n"
     ]
    }
   ],
   "source": [
    "myArray = [12, 11, 13, 5, 6]\n",
    "InsertionSort(myArray)\n",
    "print(\"Sorted array:\", myArray)"
   ],
   "metadata": {
    "collapsed": false,
    "ExecuteTime": {
     "end_time": "2023-10-05T11:36:21.449546Z",
     "start_time": "2023-10-05T11:36:21.446692Z"
    }
   },
   "id": "e49ee093b7c15869"
  },
  {
   "cell_type": "markdown",
   "source": [
    "The time complexity of Insertion Sort is typically analyzed based on the number of comparisons and swaps it makes as it sorts an array of $n$ elements. Here's a breakdown of the complexity analysis:\n",
    "\n",
    "- Best-case time complexity: when the input array is already sorted. In this case, Insertion Sort makes only $n - 1$ comparisons and $0$ swaps. Therefore, the best-case time complexity is $O(n)$.\n",
    "\n",
    "- Average-case time complexity: when the input array is a random permutation of elements. In this case, Insertion Sort makes approximately $n^2/4$ comparisons and $n^2/4$ swaps. Therefore, the average-case time complexity is $O(n^2)$.\n",
    "\n",
    "- Worst-case time complexity: when the input array is in reverse order, and each element needs to be compared and swapped with all the previous elements in the sorted portion of the array. In this case, Insertion Sort makes approximately $n^2/2$ comparisons and $n^2/2$ swaps. Therefore, the worst-case time complexity is $O(n^2)$.\n",
    "\n",
    "The space complexity of Insertion Sort is $O(1)$, meaning it sorts the array in-place without requiring additional memory allocation proportional to the input size.\n",
    "\n",
    "In summary, Insertion Sort has a best-case time complexity of $O(n)$, but its average-case and worst-case time complexity are both $O(n^2)$. It is not considered efficient for large datasets, but it can be adaptive and perform well on nearly sorted data or small datasets. "
   ],
   "metadata": {
    "collapsed": false
   },
   "id": "b96a3cbee19fc55c"
  },
  {
   "cell_type": "markdown",
   "source": [
    "### Bubble Sort\n",
    "\n",
    "**Bubble Sort** is a simple sorting algorithm that works by repeatedly swapping the adjacent elements if they are in the wrong order. It is called Bubble Sort because with each iteration, the largest element in the unsorted portion of the list bubbles up towards its correct position in the sorted portion of the list.\n",
    "\n",
    "Here's a brief overview of how Bubble Sort works:\n",
    "\n",
    "1. **Initialization**: The algorithm starts with the first element.\n",
    "2. **Comparison and Swapping**: The algorithm iterates through the list and compares each pair of adjacent items. If the items are in the wrong order (e.g. the current element is greater than the next element), it swaps them.\n",
    "3. **Expansion**: This process continues iteratively. The largest element \"bubbles up\" to the end of the list, so the sorted portion of the list actually grows from the end of the list toward the beginning. \n",
    "4. **Termination**: The algorithm terminates when there are no more swaps and it successfully goes through the entire list without making any changes."
   ],
   "metadata": {
    "collapsed": false
   },
   "id": "d67e8a1bc9554318"
  },
  {
   "cell_type": "code",
   "execution_count": 5,
   "outputs": [],
   "source": [
    "def BubbleSort(A):\n",
    "    \n",
    "    # Start iterating from the first element to the end of the array\n",
    "    for i in range(1, len(A)):\n",
    "        \n",
    "        # Iterate through the unsorted portion of the list\n",
    "        for j in range(len(A) - 1, i - 1, -1):\n",
    "            \n",
    "            # Swap adjacent elements if they are in the wrong order\n",
    "            if A[j] < A[j - 1]:\n",
    "                A[j], A[j - 1] = A[j - 1], A[j] # Swap elements\n",
    "    \n",
    "    return A"
   ],
   "metadata": {
    "collapsed": false,
    "ExecuteTime": {
     "end_time": "2023-10-05T12:00:06.472575Z",
     "start_time": "2023-10-05T12:00:06.465158Z"
    }
   },
   "id": "ef9991915dbc30b0"
  },
  {
   "cell_type": "code",
   "execution_count": 6,
   "outputs": [
    {
     "name": "stdout",
     "output_type": "stream",
     "text": [
      "Sorted array: [5, 6, 11, 12, 13]\n"
     ]
    }
   ],
   "source": [
    "myArray = [12, 11, 13, 5, 6]\n",
    "BubbleSort(myArray)\n",
    "print(\"Sorted array:\", myArray)"
   ],
   "metadata": {
    "collapsed": false,
    "ExecuteTime": {
     "end_time": "2023-10-05T12:00:06.487628Z",
     "start_time": "2023-10-05T12:00:06.471320Z"
    }
   },
   "id": "8fa58013a91ad7e"
  },
  {
   "cell_type": "markdown",
   "source": [
    "Also for the Bubble Sort the time complexity is typically analyzed based on the number of comparisons and swaps it makes as it sorts an array of $n$ elements. Here's a breakdown of the complexity analysis (it is very similar to the Insertion Sort one):\n",
    "\n",
    "- Best-case time complexity: when the input array is already sorted. In this case, Bubble Sort only needs to make one pass through the array without any swaps. Therefore, the best-case time complexity is $O(n)$.\n",
    "\n",
    "- Average-case time complexity: when the input array is a random permutation of elements. In this case, Bubble Sort makes $O(n^2)$ comparisons and $O(n^2)$ swaps. Therefore, the average-case time complexity is $O(n^2)$.\n",
    "\n",
    "- Worst-case time complexity: when the input array is in reverse order. In this case, Bubble Sort makes approximately $n(n-1)/2$ comparisons and swaps. Therefore, the worst-case time complexity is $O(n^2)$.\n",
    "\n",
    "The space complexity of Bubble Sort (like Insertion Sort) is $O(1)$, meaning it sorts the array in-place without requiring additional memory allocation proportional to the input size.\n",
    "\n",
    "In summary, also Bubble Sort is a very inefficient sorting algorithm and it's rarely used in practice for large datasets due to its poor time complexity. However, it can be adaptive and perform well on nearly sorted data or small datasets."
   ],
   "metadata": {
    "collapsed": false
   },
   "id": "3eec4b0c4ed4a8af"
  }
 ],
 "metadata": {
  "kernelspec": {
   "display_name": "Python 3",
   "language": "python",
   "name": "python3"
  },
  "language_info": {
   "codemirror_mode": {
    "name": "ipython",
    "version": 2
   },
   "file_extension": ".py",
   "mimetype": "text/x-python",
   "name": "python",
   "nbconvert_exporter": "python",
   "pygments_lexer": "ipython2",
   "version": "2.7.6"
  }
 },
 "nbformat": 4,
 "nbformat_minor": 5
}
