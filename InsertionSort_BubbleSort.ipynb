{
 "cells": [
  {
   "cell_type": "markdown",
   "source": [
    "# Insertion Sort vs Bubble Sort\n",
    "\n",
    "##### __Elia Innocenti__ - 7080561\n",
    "\n",
    "### Introduction to Sorting Algorithms\n",
    "\n",
    "A sorting algorithm is an algorithm that solve the following sorting problem:\n",
    "\n",
    "**Input**: A sequence of n numbers $<a_1, a_2, ..., a_n>$\n",
    "\n",
    "**Output**: A permutation (reordering) $<a_1', a_2', ..., a_n'>$ of the input sequence such that $a_1' \\leq a_2' \\leq ... \\leq a_n'$\n",
    "\n",
    "There are many sorting algorithms, each with its own advantages and limitations, based on time complexity, space complexity, stability and the type of data to be sorted.\n",
    "\n",
    "In this notebook we will focus on two simple sorting algorithms: **Insertion Sort** and **Bubble Sort**.\n",
    "\n"
   ],
   "metadata": {
    "collapsed": false
   },
   "id": "ea9b878ddd9d414"
  },
  {
   "cell_type": "code",
   "execution_count": null,
   "outputs": [],
   "source": [],
   "metadata": {
    "collapsed": false
   },
   "id": "fbdfc233c4f76b98"
  }
 ],
 "metadata": {
  "kernelspec": {
   "display_name": "Python 3",
   "language": "python",
   "name": "python3"
  },
  "language_info": {
   "codemirror_mode": {
    "name": "ipython",
    "version": 2
   },
   "file_extension": ".py",
   "mimetype": "text/x-python",
   "name": "python",
   "nbconvert_exporter": "python",
   "pygments_lexer": "ipython2",
   "version": "2.7.6"
  }
 },
 "nbformat": 4,
 "nbformat_minor": 5
}
